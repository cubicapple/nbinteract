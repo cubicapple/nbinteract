{
 "cells": [
  {
   "cell_type": "code",
   "execution_count": 16,
   "metadata": {
    "papermill": {
     "duration": 0.020005,
     "end_time": "2019-04-18T15:46:41.596760",
     "exception": false,
     "start_time": "2019-04-18T15:46:41.576755",
     "status": "completed"
    },
    "tags": [
     "parameters"
    ]
   },
   "outputs": [],
   "source": [
    "a = 20\n",
    "name = 'Bill'"
   ]
  },
  {
   "cell_type": "code",
   "execution_count": 17,
   "metadata": {
    "papermill": {
     "duration": 0.015993,
     "end_time": "2019-04-18T15:46:41.622761",
     "exception": false,
     "start_time": "2019-04-18T15:46:41.606768",
     "status": "completed"
    },
    "tags": [
     "injected-parameters"
    ]
   },
   "outputs": [],
   "source": [
    "# Parameters\n",
    "a = 10\n"
   ]
  },
  {
   "cell_type": "code",
   "execution_count": 18,
   "metadata": {
    "papermill": {
     "duration": 0.01501,
     "end_time": "2019-04-18T15:46:41.649767",
     "exception": false,
     "start_time": "2019-04-18T15:46:41.634757",
     "status": "completed"
    },
    "tags": []
   },
   "outputs": [],
   "source": [
    "from ipywidgets import interact"
   ]
  },
  {
   "cell_type": "code",
   "execution_count": 19,
   "metadata": {
    "papermill": {
     "duration": 0.016964,
     "end_time": "2019-04-18T15:46:41.676754",
     "exception": false,
     "start_time": "2019-04-18T15:46:41.659790",
     "status": "completed"
    },
    "tags": []
   },
   "outputs": [],
   "source": [
    "def square(x):\n",
    "    return x * x * a\n",
    "\n",
    "def friends(name, number):\n",
    "    return '{} has {} friends!'.format(name, number)"
   ]
  },
  {
   "cell_type": "code",
   "execution_count": 20,
   "metadata": {
    "papermill": {
     "duration": 0.036,
     "end_time": "2019-04-18T15:46:41.722756",
     "exception": false,
     "start_time": "2019-04-18T15:46:41.686756",
     "status": "completed"
    },
    "tags": []
   },
   "outputs": [
    {
     "data": {
      "application/vnd.jupyter.widget-view+json": {
       "model_id": "e799980fb9c645cba2024b34187b6ae5",
       "version_major": 2,
       "version_minor": 0
      },
      "text/plain": [
       "interactive(children=(IntSlider(value=10, description='x', max=30, min=-10), Output()), _dom_classes=('widget-…"
      ]
     },
     "metadata": {},
     "output_type": "display_data"
    }
   ],
   "source": [
    "interact(square, x=10);"
   ]
  },
  {
   "cell_type": "code",
   "execution_count": 21,
   "metadata": {
    "papermill": {
     "duration": 0.039975,
     "end_time": "2019-04-18T15:46:41.772758",
     "exception": false,
     "start_time": "2019-04-18T15:46:41.732783",
     "status": "completed"
    },
    "tags": []
   },
   "outputs": [
    {
     "data": {
      "application/vnd.jupyter.widget-view+json": {
       "model_id": "240ebc0a405a4f22b732537381eeb1b0",
       "version_major": 2,
       "version_minor": 0
      },
      "text/plain": [
       "interactive(children=(IntSlider(value=50, description='x', step=10), Output()), _dom_classes=('widget-interact…"
      ]
     },
     "metadata": {},
     "output_type": "display_data"
    }
   ],
   "source": [
    "interact(square, x=(0, 100, 10));"
   ]
  },
  {
   "cell_type": "code",
   "execution_count": 22,
   "metadata": {
    "papermill": {
     "duration": 0.039999,
     "end_time": "2019-04-18T15:46:41.823756",
     "exception": false,
     "start_time": "2019-04-18T15:46:41.783757",
     "status": "completed"
    },
    "tags": []
   },
   "outputs": [
    {
     "data": {
      "application/vnd.jupyter.widget-view+json": {
       "model_id": "4d6ab8c2647a4c33a7072359b1867cf3",
       "version_major": 2,
       "version_minor": 0
      },
      "text/plain": [
       "interactive(children=(Text(value='Bill', description='name'), IntSlider(value=7, description='number', max=10,…"
      ]
     },
     "metadata": {},
     "output_type": "display_data"
    }
   ],
   "source": [
    "interact(friends, name=name, number=(5, 10));"
   ]
  },
  {
   "cell_type": "code",
   "execution_count": 23,
   "metadata": {
    "papermill": {
     "duration": 0.04097,
     "end_time": "2019-04-18T15:46:41.875756",
     "exception": false,
     "start_time": "2019-04-18T15:46:41.834786",
     "status": "completed"
    },
    "tags": []
   },
   "outputs": [
    {
     "data": {
      "application/vnd.jupyter.widget-view+json": {
       "model_id": "300621a14ea6428191613358c2dab438",
       "version_major": 2,
       "version_minor": 0
      },
      "text/plain": [
       "interactive(children=(Text(value='Bill', description='name'), Dropdown(description='number', options={'One': 1…"
      ]
     },
     "metadata": {},
     "output_type": "display_data"
    }
   ],
   "source": [
    "interact(friends, name=name, number={'One': 1, 'Five': 5, 'Ten': 10});"
   ]
  },
  {
   "cell_type": "code",
   "execution_count": null,
   "metadata": {
    "papermill": {
     "duration": 0.009998,
     "end_time": "2019-04-18T15:46:41.897753",
     "exception": false,
     "start_time": "2019-04-18T15:46:41.887755",
     "status": "completed"
    },
    "tags": []
   },
   "outputs": [],
   "source": []
  }
 ],
 "metadata": {
  "celltoolbar": "Tags",
  "kernelspec": {
   "display_name": "Python 3",
   "language": "python",
   "name": "python3"
  },
  "language_info": {
   "codemirror_mode": {
    "name": "ipython",
    "version": 3
   },
   "file_extension": ".py",
   "mimetype": "text/x-python",
   "name": "python",
   "nbconvert_exporter": "python",
   "pygments_lexer": "ipython3",
   "version": "3.7.0"
  },
  "papermill": {
   "duration": 2.360996,
   "end_time": "2019-04-18T15:46:42.384754",
   "environment_variables": {},
   "exception": null,
   "input_path": "tutorial.ipynb",
   "output_path": "tutorial-out.ipynb",
   "parameters": {
    "a": 10
   },
   "start_time": "2019-04-18T15:46:40.023758",
   "version": "0.19.1"
  }
 },
 "nbformat": 4,
 "nbformat_minor": 2
}
